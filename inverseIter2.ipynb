{
 "cells": [
  {
   "cell_type": "code",
   "execution_count": 4,
   "metadata": {},
   "outputs": [
    {
     "ename": "NameError",
     "evalue": "name 'max_depth' is not defined",
     "output_type": "error",
     "traceback": [
      "\u001b[0;31m---------------------------------------------------------------------------\u001b[0m",
      "\u001b[0;31mNameError\u001b[0m                                 Traceback (most recent call last)",
      "\u001b[0;32m<ipython-input-4-cfca408c7145>\u001b[0m in \u001b[0;36m<module>\u001b[0;34m\u001b[0m\n\u001b[1;32m     53\u001b[0m         \u001b[0mpoints\u001b[0m\u001b[0;34m.\u001b[0m\u001b[0mappend\u001b[0m\u001b[0;34m(\u001b[0m\u001b[0;34m(\u001b[0m\u001b[0mc2\u001b[0m\u001b[0;34m.\u001b[0m\u001b[0mreal\u001b[0m\u001b[0;34m,\u001b[0m\u001b[0mc2\u001b[0m\u001b[0;34m.\u001b[0m\u001b[0mimag\u001b[0m\u001b[0;34m)\u001b[0m\u001b[0;34m)\u001b[0m\u001b[0;34m\u001b[0m\u001b[0;34m\u001b[0m\u001b[0m\n\u001b[1;32m     54\u001b[0m \u001b[0;34m\u001b[0m\u001b[0m\n\u001b[0;32m---> 55\u001b[0;31m     \u001b[0;32mif\u001b[0m\u001b[0;34m(\u001b[0m\u001b[0mdepth\u001b[0m \u001b[0;34m>\u001b[0m \u001b[0mmax_depth\u001b[0m\u001b[0;34m)\u001b[0m\u001b[0;34m:\u001b[0m\u001b[0;34m\u001b[0m\u001b[0;34m\u001b[0m\u001b[0m\n\u001b[0m\u001b[1;32m     56\u001b[0m         \u001b[0mcurrent\u001b[0m \u001b[0;34m=\u001b[0m \u001b[0mstack\u001b[0m\u001b[0;34m.\u001b[0m\u001b[0mpop\u001b[0m\u001b[0;34m(\u001b[0m\u001b[0;34m)\u001b[0m\u001b[0;34m\u001b[0m\u001b[0;34m\u001b[0m\u001b[0m\n\u001b[1;32m     57\u001b[0m         \u001b[0mdepth\u001b[0m \u001b[0;34m-=\u001b[0m \u001b[0;36m1\u001b[0m\u001b[0;34m\u001b[0m\u001b[0;34m\u001b[0m\u001b[0m\n",
      "\u001b[0;31mNameError\u001b[0m: name 'max_depth' is not defined"
     ]
    }
   ],
   "source": [
    "import numpy as np\n",
    "import matplotlib.pyplot as plt\n",
    "from cmath import sqrt\n",
    "\n",
    "dist = lambda x1,y1,x2,y2 : abs(sqrt((x2 - x1)**2 + (y2 - y1)**2))\n",
    "\n",
    "max_size = 100000\n",
    "times = 10\n",
    "#c = np.complex(-0.77967939051932,0.11124251677182495)\n",
    "c= np.complex(0,0)\n",
    "current = c\n",
    "depth = 0\n",
    "\n",
    "bi_tree = np.empty(2 ** times, dtype=complex)\n",
    "bi_tree[0] = 1\n",
    "bi_tree[1] = 1\n",
    "points= []\n",
    "res=0.01\n",
    "\n",
    "\n",
    "\n",
    "while(len(bi_tree) < max_size):\n",
    "    \n",
    "    \n",
    "    c1 = sqrt(current-c)\n",
    "    c2 = -c1\n",
    "    \n",
    "    point_in_range, i = 0,0\n",
    "    \n",
    "    #point_in_range = 0 means no points within range\n",
    "    #point_in_range = 1 means c1 within range only\n",
    "    #point_in_range = 2 means c2 within range only\n",
    "    #point_in_range = 3 means c1 and c2 within range \n",
    "    \n",
    "    while(i < len(points) and point_in_range != 3):\n",
    "        dist1= dist(c1.real,c1.imag,points[i][0],points[i][1])\n",
    "        dist2= dist(c2.real,c2.imag,points[i][0],points[i][1])\n",
    "        \n",
    "        if (dist1 < res and point_in_range == 0):\n",
    "            point_in_range = 1\n",
    "        if(dist2 < res and point_in_range == 0):\n",
    "            point_in_range = 2\n",
    "        if(dist2 < res and point_in_range == 1) or (dist1 < res and point_in_range == 2):\n",
    "            point_in_range = 3 \n",
    "            \n",
    "        i += 1 \n",
    "    \n",
    "    #if _ point not within range (c_n-res, c-n+res) append to list of points \n",
    "    if(point_in_range == 0 or point_in_range == 2):\n",
    "        points.append((c1.real,c1.imag))\n",
    "        \n",
    "    if(point_in_range == 0 or point_in_range == 1):\n",
    "        points.append((c2.real,c2.imag))\n",
    "    \n",
    "    if(depth > max_depth): \n",
    "        current = stack.pop() \n",
    "        depth -= 1\n",
    "        \n",
    "    else:\n",
    "        stack.append(c1)\n",
    "        stack.append(c2)\n",
    "        depth += 1\n",
    "        \n",
    "xs, ys = [], []\n",
    "\n",
    "for x, y in points:\n",
    "    xs.append(x)\n",
    "    ys.append(y)\n",
    "    \n",
    "plt.scatter(xs,ys,s= 0.5,color=\"black\")\n",
    "#plt.show()\n",
    "plt.axis(\"off\")\n",
    "plt.savefig('inverseIteration.png')"
   ]
  },
  {
   "cell_type": "code",
   "execution_count": null,
   "metadata": {},
   "outputs": [],
   "source": []
  }
 ],
 "metadata": {
  "kernelspec": {
   "display_name": "Python 3",
   "language": "python",
   "name": "python3"
  },
  "language_info": {
   "codemirror_mode": {
    "name": "ipython",
    "version": 3
   },
   "file_extension": ".py",
   "mimetype": "text/x-python",
   "name": "python",
   "nbconvert_exporter": "python",
   "pygments_lexer": "ipython3",
   "version": "3.8.6"
  }
 },
 "nbformat": 4,
 "nbformat_minor": 4
}
