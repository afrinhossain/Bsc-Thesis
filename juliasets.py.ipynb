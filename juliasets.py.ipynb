{
 "cells": [
  {
   "cell_type": "code",
   "execution_count": 4,
   "metadata": {},
   "outputs": [],
   "source": [
    "def julia_iter(z:complex,c:complex,z_abs_max:int, max_iter:int):\n",
    "    \n",
    "    iteration = 0\n",
    "    rat= 0\n",
    "    \n",
    "    while abs(z) <= z_abs_max and iteration < max_iter:\n",
    "        z = z**2 + c\n",
    "        iteration += 1\n",
    "    if(iteration / max_iter > 0.8):\n",
    "        rat = 1\n",
    "    return iteration / max_iter"
   ]
  },
  {
   "cell_type": "code",
   "execution_count": 7,
   "metadata": {},
   "outputs": [
    {
     "data": {
      "image/png": "[encoded data removed]",
      "text/plain": [
       "<Figure size 432x288 with 1 Axes>"
      ]
     },
     "metadata": {
      "needs_background": "light"
     },
     "output_type": "display_data"
    },
    {
     "data": {
      "text/plain": [
       "<Figure size 432x288 with 0 Axes>"
      ]
     },
     "metadata": {},
     "output_type": "display_data"
    }
   ],
   "source": [
    "import numpy as np\n",
    "import matplotlib.pyplot as plt\n",
    "#import gc\n",
    "#gc.collect()\n",
    "\n",
    "# Image size (pixels)\n",
    "width, height = 900, 900\n",
    "\n",
    "# Plot window\n",
    "xmin, xmax = -1.5, 1.5\n",
    "xrange = xmax - xmin\n",
    "ymin, ymax = -1.5, 1.5\n",
    "yrange = ymax - ymin\n",
    "\n",
    "#restrictive parameters\n",
    "z_abs_max = 8 #3\n",
    "max_iter = 60 #20\n",
    "\n",
    "#initialise an n*m array (the image)\n",
    "julia_img= np.zeros((width, height))\n",
    "\n",
    "#complex number c\n",
    "c= np.complex(-2,0) #denditric fractal\n",
    "#c= np.complex(-0.39,-0.59) # Siegel Disk Fractal\n",
    "#c= np.complex(-0.123,0.745) #Douady's Rabbit Fractal\n",
    "#c= np.complex( -0.25,0) #topologically equivalent to a circle\n",
    "#c= np.complex(0.27334,0.00742)\n",
    "#c = np.complex(-0.77967939051932,0.11124251677182495)\n",
    "\n",
    "for ix in range(width):\n",
    "        for iy in range(height):\n",
    "            \n",
    "            # pixel to complex number\n",
    "            z = np.complex(ix / width * xrange + xmin, iy / height * yrange + ymin)\n",
    "            \n",
    "            # color scaling for the image\n",
    "            julia_img[ix, iy] = julia_iter(z,c,z_abs_max, max_iter)\n",
    "           \n",
    "            \n",
    "\n",
    "plt.imshow(julia_img, cmap=\"binary\")\n",
    "plt.axis(\"off\")\n",
    "\n",
    "plt.show()\n",
    "plt.savefig('juliasets.png')\n"
   ]
  },
  {
   "cell_type": "code",
   "execution_count": null,
   "metadata": {},
   "outputs": [],
   "source": []
  }
 ],
 "metadata": {
  "kernelspec": {
   "display_name": "Python 3",
   "language": "python",
   "name": "python3"
  },
  "language_info": {
   "codemirror_mode": {
    "name": "ipython",
    "version": 3
   },
   "file_extension": ".py",
   "mimetype": "text/x-python",
   "name": "python",
   "nbconvert_exporter": "python",
   "pygments_lexer": "ipython3",
   "version": "3.8.6"
  }
 },
 "nbformat": 4,
 "nbformat_minor": 4
}
